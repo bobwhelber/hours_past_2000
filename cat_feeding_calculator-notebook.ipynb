{
 "cells": [
  {
   "cell_type": "markdown",
   "metadata": {},
   "source": [
    "# feed the cats"
   ]
  },
  {
   "cell_type": "code",
   "execution_count": 2,
   "metadata": {},
   "outputs": [],
   "source": [
    "# Fancy feat eat rate is 85g per 3.5 lbs cat\n",
    "R_ff_glb=85.0/3.5\n",
    "# iams eat rate is 2/3 cup per 10 lbs cat\n",
    "R_i_clb=(2/3)/10\n",
    "#  there are 95g of iams per cup, so\n",
    "R_i_glb=R_i_clb*95"
   ]
  },
  {
   "cell_type": "code",
   "execution_count": 3,
   "metadata": {},
   "outputs": [
    {
     "name": "stdout",
     "output_type": "stream",
     "text": [
      "R_ff_glb: 24.285714285714285\n",
      "R_i_glb: 6.333333333333333\n"
     ]
    }
   ],
   "source": [
    "print(f\"R_ff_glb: {R_ff_glb}\")\n",
    "print(f\"R_i_glb: {R_i_glb}\")"
   ]
  },
  {
   "cell_type": "code",
   "execution_count": 4,
   "metadata": {},
   "outputs": [
    {
     "name": "stdout",
     "output_type": "stream",
     "text": [
      "R_ff_callb: 26495.714285714286\n",
      "R_i_callb: 23129.333333333332\n"
     ]
    }
   ],
   "source": [
    "#  fancy feast has 1091 cal per g\n",
    "R_ff_callb=R_ff_glb*1091\n",
    "# iams has 3652 cal per g!\n",
    "R_i_callb=R_i_glb*3652\n",
    "print(f\"R_ff_callb: {R_ff_callb}\")\n",
    "print(f\"R_i_callb: {R_i_callb}\")"
   ]
  },
  {
   "cell_type": "code",
   "execution_count": 5,
   "metadata": {},
   "outputs": [
    {
     "name": "stdout",
     "output_type": "stream",
     "text": [
      "GPD_ff: 291.42857142857144\n",
      "GPD_i: 76.0\n"
     ]
    }
   ],
   "source": [
    "#  The grams of fancy feast per day for 12 lb cat\n",
    "GPD_ff=R_ff_glb*12.0\n",
    "#  The grams of iams per day for 12 lb cat\n",
    "GPD_i=R_i_glb*12.0\n",
    "\n",
    "print(f\"GPD_ff: {GPD_ff}\")\n",
    "print(f\"GPD_i: {GPD_i}\")"
   ]
  },
  {
   "cell_type": "code",
   "execution_count": 6,
   "metadata": {},
   "outputs": [
    {
     "name": "stdout",
     "output_type": "stream",
     "text": [
      "Callb_i_low: 19274.44444444444\n",
      "Callb_i_hi: 21683.75\n"
     ]
    }
   ],
   "source": [
    "#  what is the calorie recommendation from Iams?\n",
    "# low estimate is 2/3 cup per 12 lb cat\n",
    "# high esttimate is 3/4 cup per 12 lb cat\n",
    "#  95 g per cup\n",
    "# 3652 cal/g\n",
    "Callb_i_low=3652*(2/3)*95/12\n",
    "Callb_i_hi=3652*(3/4)*95/12\n",
    "print(f\"Callb_i_low: {Callb_i_low}\")\n",
    "print(f\"Callb_i_hi: {Callb_i_hi}\")"
   ]
  },
  {
   "cell_type": "code",
   "execution_count": 7,
   "metadata": {},
   "outputs": [
    {
     "name": "stdout",
     "output_type": "stream",
     "text": [
      "Callb_ff: 26495.714285714286\n"
     ]
    }
   ],
   "source": [
    "#  fancy feast just says 1 can (85g) per 3.5 bl of cat\n",
    "#  fancy feast has 1091 cal/gram\n",
    "Callb_ff=1091*85/3.5\n",
    "print(f\"Callb_ff: {Callb_ff}\")"
   ]
  },
  {
   "cell_type": "code",
   "execution_count": 8,
   "metadata": {},
   "outputs": [],
   "source": [
    "#  Note, these are the small calorie numbers, not Cal!"
   ]
  },
  {
   "cell_type": "code",
   "execution_count": 9,
   "metadata": {},
   "outputs": [
    {
     "name": "stdout",
     "output_type": "stream",
     "text": [
      "calday_tot: 720000\n"
     ]
    }
   ],
   "source": [
    "#  lets shoot for 20,000 cal per lb cat.\n",
    "#  So the total cals per day for three 12 lb cats\n",
    "calday_tot=3*20000*12\n",
    "print(f\"calday_tot: {calday_tot}\")"
   ]
  },
  {
   "cell_type": "code",
   "execution_count": 10,
   "metadata": {},
   "outputs": [
    {
     "name": "stdout",
     "output_type": "stream",
     "text": [
      "cal_i: 534530\n"
     ]
    }
   ],
   "source": [
    "# say we use two cans of fancy feast per day, how much iams to finish the day?\n",
    "cal_ff=2*(1091*85)\n",
    "cal_i=calday_tot-cal_ff\n",
    "print(f\"cal_i: {cal_i}\")"
   ]
  },
  {
   "cell_type": "code",
   "execution_count": 11,
   "metadata": {},
   "outputs": [
    {
     "name": "stdout",
     "output_type": "stream",
     "text": [
      "gms_i: 146.36637458926614\n"
     ]
    }
   ],
   "source": [
    "gms_i=cal_i/3652\n",
    "print(f\"gms_i: {gms_i}\")"
   ]
  },
  {
   "cell_type": "code",
   "execution_count": 26,
   "metadata": {},
   "outputs": [
    {
     "name": "stdout",
     "output_type": "stream",
     "text": [
      "FF: daily grams for 12 lb cat: 219.98166819431714\n",
      "Iams: daily grams for 12 lb cat: 65.71741511500548\n",
      "FF: half daily grams for 12 lb cat: 109.99083409715857\n",
      "Iams: half daily grams for 12 lb cat: 32.85870755750274\n",
      "cal for 1 cans ff 92735.000000\n",
      "remaining cal for day: 627265.000000\n",
      "remaining grams Iams for day: 171.759310\n",
      "For half day, 1/2 can FF ang 85.879655 grams Iams\n"
     ]
    }
   ],
   "source": [
    "# of the cats\n",
    "class cat_food:\n",
    "    def __init__(self,calpergram):\n",
    "        self.cal_per_gram=calpergram\n",
    "        self.daily_cal_per_lb=20000.0\n",
    "        #  three big meals, two portions each\n",
    "        #  one fourth lunch, one portion\n",
    "        #  seven total portions\n",
    "        self.num_daily_meals=4\n",
    "        self.meal_cal_per_lb=(self.daily_cal_per_lb/self.num_daily_meals)\n",
    "        \n",
    "    def daily_grams_for(self,catwt):\n",
    "        val=catwt*self.daily_cal_per_lb/self.cal_per_gram\n",
    "        return val\n",
    "    \n",
    "    def meal_grams_for(self,catwt):\n",
    "        val=catwt*self.meal_cal_per_lb/self.cal_per_gram\n",
    "        return val\n",
    "    \n",
    "    def cals_from(self,grms):\n",
    "        return self.cal_per_gram*grms\n",
    "    \n",
    "    def grams_from(self,cal):\n",
    "        return cal/self.cal_per_gram\n",
    "    \n",
    "FF=cat_food(1091.)\n",
    "ffgpd=FF.daily_grams_for(12.)\n",
    "IMS=cat_food(3652)\n",
    "igpd=IMS.daily_grams_for(12.)\n",
    "print(f\"FF: daily grams for 12 lb cat: {ffgpd}\")\n",
    "print(f\"Iams: daily grams for 12 lb cat: {igpd}\")\n",
    "print(f\"FF: half daily grams for 12 lb cat: {ffgpd/2}\")\n",
    "print(f\"Iams: half daily grams for 12 lb cat: {igpd/2}\")\n",
    "print(\"cal for 1 cans ff %f\" % (FF.cals_from(1*85)))\n",
    "cal_ff_1can=FF.cals_from(1*85)\n",
    "cal_i_rem=calday_tot-cal_ff_1can\n",
    "print(\"remaining cal for day: %f\" % (cal_i_rem))\n",
    "grms_i_rem=IMS.grams_from(cal_i_rem)\n",
    "print(\"remaining grams Iams for day: %f\" % (grms_i_rem))\n",
    "print(\"For half day, 1/2 can FF ang %f grams Iams\"%(grms_i_rem/2))"
   ]
  },
  {
   "cell_type": "code",
   "execution_count": null,
   "metadata": {},
   "outputs": [],
   "source": []
  }
 ],
 "metadata": {
  "kernelspec": {
   "display_name": "Python 3",
   "language": "python",
   "name": "python3"
  },
  "language_info": {
   "codemirror_mode": {
    "name": "ipython",
    "version": 3
   },
   "file_extension": ".py",
   "mimetype": "text/x-python",
   "name": "python",
   "nbconvert_exporter": "python",
   "pygments_lexer": "ipython3",
   "version": "3.7.4"
  }
 },
 "nbformat": 4,
 "nbformat_minor": 2
}
